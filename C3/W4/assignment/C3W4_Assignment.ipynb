{
  "cells": [
    {
      "cell_type": "markdown",
      "metadata": {
        "id": "bFWbEb6uGbN-"
      },
      "source": [
        "# Week 4: Predicting the next word\n",
        "\n",
        "Welcome to this assignment! During this week you saw how to create a model that will predict the next word in a text sequence, now you will implement such model and train it using a corpus of Shakespeare's sonnets, while also creating some helper functions to pre-process the data.\n",
        "\n",
        "\n",
        "Let's get started!"
      ]
    },
    {
      "cell_type": "code",
      "execution_count": 1,
      "metadata": {
        "id": "BOwsuGQQY9OL",
        "tags": [
          "graded"
        ]
      },
      "outputs": [],
      "source": [
        "import numpy as np \n",
        "import matplotlib.pyplot as plt\n",
        "from tensorflow.keras.models import Sequential\n",
        "from tensorflow.keras.utils import to_categorical \n",
        "from tensorflow.keras.preprocessing.text import Tokenizer\n",
        "from tensorflow.keras.preprocessing.sequence import pad_sequences\n",
        "from tensorflow.keras.layers import Embedding, LSTM, Dense, Bidirectional"
      ]
    },
    {
      "cell_type": "markdown",
      "metadata": {
        "id": "BTxqlHqKHzhr"
      },
      "source": [
        "For this assignment you will be using the [Shakespeare Sonnets Dataset](https://www.opensourceshakespeare.org/views/sonnets/sonnet_view.php?range=viewrange&sonnetrange1=1&sonnetrange2=154), which contains more than 2000 lines of text extracted from Shakespeare's sonnets."
      ]
    },
    {
      "cell_type": "code",
      "execution_count": 2,
      "metadata": {
        "id": "WZ4qOUzujMP6",
        "tags": [
          "graded"
        ],
        "outputId": "40f443c0-316f-4ad2-dfc2-aa50be0a0ae4",
        "colab": {
          "base_uri": "https://localhost:8080/"
        }
      },
      "outputs": [
        {
          "output_type": "stream",
          "name": "stdout",
          "text": [
            "/usr/local/lib/python3.7/dist-packages/gdown/cli.py:131: FutureWarning: Option `--id` was deprecated in version 4.3.1 and will be removed in 5.0. You don't need to pass it anymore to use a file ID.\n",
            "  category=FutureWarning,\n",
            "Downloading...\n",
            "From: https://drive.google.com/uc?id=108jAePKK4R3BVYBbYJZ32JWUwxeMg20K\n",
            "To: /content/sonnets.txt\n",
            "100% 93.6k/93.6k [00:00<00:00, 75.9MB/s]\n"
          ]
        }
      ],
      "source": [
        "# sonnets.txt\n",
        "!gdown --id 108jAePKK4R3BVYBbYJZ32JWUwxeMg20K"
      ]
    },
    {
      "cell_type": "code",
      "execution_count": 3,
      "metadata": {
        "id": "Pfd-nYKij5yY",
        "tags": [
          "graded"
        ],
        "outputId": "d58c82cb-6618-4663-d97b-27367fd7f69a",
        "colab": {
          "base_uri": "https://localhost:8080/"
        }
      },
      "outputs": [
        {
          "output_type": "stream",
          "name": "stdout",
          "text": [
            "There are 2159 lines of sonnets\n",
            "\n",
            "The first 5 lines look like this:\n",
            "\n",
            "from fairest creatures we desire increase,\n",
            "that thereby beauty's rose might never die,\n",
            "but as the riper should by time decease,\n",
            "his tender heir might bear his memory:\n",
            "but thou, contracted to thine own bright eyes,\n"
          ]
        }
      ],
      "source": [
        "# Define path for file with sonnets\n",
        "SONNETS_FILE = './sonnets.txt'\n",
        "\n",
        "# Read the data\n",
        "with open('./sonnets.txt') as f:\n",
        "    data = f.read()\n",
        "\n",
        "# Convert to lower case and save as a list\n",
        "corpus = data.lower().split(\"\\n\")\n",
        "\n",
        "print(f\"There are {len(corpus)} lines of sonnets\\n\")\n",
        "print(f\"The first 5 lines look like this:\\n\")\n",
        "for i in range(5):\n",
        "  print(corpus[i])"
      ]
    },
    {
      "cell_type": "markdown",
      "metadata": {
        "id": "imB15zrSNhA1"
      },
      "source": [
        "## Tokenizing the text\n",
        "\n",
        "Now fit the Tokenizer to the corpus and save the total number of words."
      ]
    },
    {
      "cell_type": "code",
      "execution_count": 4,
      "metadata": {
        "id": "AAhM_qAZk0o5",
        "tags": [
          "graded"
        ]
      },
      "outputs": [],
      "source": [
        "tokenizer = Tokenizer()\n",
        "tokenizer.fit_on_texts(corpus)\n",
        "total_words = len(tokenizer.word_index) + 1"
      ]
    },
    {
      "cell_type": "markdown",
      "metadata": {
        "id": "77-0sA46OETa"
      },
      "source": [
        "When converting the text into sequences you can use the `texts_to_sequences` method as you have done throughout this course.\n",
        "\n",
        "In the next graded function you will need to process this corpus one line at a time. Given this, it is important to keep in mind that the way you are feeding the data unto this method affects the result. Check the following example to make this clearer.\n",
        "\n",
        "The first example of the corpus is a string and looks like this:"
      ]
    },
    {
      "cell_type": "code",
      "execution_count": 5,
      "metadata": {
        "id": "tqhPxdeXlfjh",
        "tags": [
          "graded"
        ],
        "outputId": "d8b739eb-d26a-4413-8cad-b3a4bddb9fc3",
        "colab": {
          "base_uri": "https://localhost:8080/",
          "height": 36
        }
      },
      "outputs": [
        {
          "output_type": "execute_result",
          "data": {
            "text/plain": [
              "'from fairest creatures we desire increase,'"
            ],
            "application/vnd.google.colaboratory.intrinsic+json": {
              "type": "string"
            }
          },
          "metadata": {},
          "execution_count": 5
        }
      ],
      "source": [
        "corpus[0]"
      ]
    },
    {
      "cell_type": "markdown",
      "metadata": {
        "id": "XFMP4z11O3os"
      },
      "source": [
        "If you pass this text directly into the `texts_to_sequences` method you will get an unexpected result:"
      ]
    },
    {
      "cell_type": "code",
      "execution_count": 6,
      "metadata": {
        "id": "EMSEhmbzNZCE",
        "tags": [
          "graded"
        ],
        "outputId": "c90eac5d-c88a-4e3f-ab49-1f3e57647056",
        "colab": {
          "base_uri": "https://localhost:8080/"
        }
      },
      "outputs": [
        {
          "output_type": "execute_result",
          "data": {
            "text/plain": [
              "[[],\n",
              " [],\n",
              " [58],\n",
              " [],\n",
              " [],\n",
              " [],\n",
              " [17],\n",
              " [6],\n",
              " [],\n",
              " [],\n",
              " [],\n",
              " [],\n",
              " [],\n",
              " [],\n",
              " [],\n",
              " [],\n",
              " [17],\n",
              " [],\n",
              " [],\n",
              " [],\n",
              " [],\n",
              " [],\n",
              " [],\n",
              " [],\n",
              " [],\n",
              " [],\n",
              " [],\n",
              " [],\n",
              " [],\n",
              " [6],\n",
              " [],\n",
              " [],\n",
              " [],\n",
              " [6],\n",
              " [],\n",
              " [],\n",
              " [],\n",
              " [],\n",
              " [17],\n",
              " [],\n",
              " [],\n",
              " []]"
            ]
          },
          "metadata": {},
          "execution_count": 6
        }
      ],
      "source": [
        "tokenizer.texts_to_sequences(corpus[0])"
      ]
    },
    {
      "cell_type": "markdown",
      "metadata": {
        "id": "pPZmZtpEPEeI"
      },
      "source": [
        "This happened because `texts_to_sequences` expects a list and you are providing a string. However a string is still and `iterable` in Python so you will get the word index of every character in the string.\n",
        "\n",
        "Instead you need to place the example whithin a list before passing it to the method:"
      ]
    },
    {
      "cell_type": "code",
      "execution_count": 7,
      "metadata": {
        "id": "Qmgo-vXhk4nd",
        "tags": [
          "graded"
        ],
        "outputId": "9e21ba44-8699-4bde-a424-0b547a31012b",
        "colab": {
          "base_uri": "https://localhost:8080/"
        }
      },
      "outputs": [
        {
          "output_type": "execute_result",
          "data": {
            "text/plain": [
              "[[34, 417, 877, 166, 213, 517]]"
            ]
          },
          "metadata": {},
          "execution_count": 7
        }
      ],
      "source": [
        "tokenizer.texts_to_sequences([corpus[0]])"
      ]
    },
    {
      "cell_type": "markdown",
      "metadata": {
        "id": "0DU7wK-eQ5dc"
      },
      "source": [
        "Notice that you received the sequence wrapped inside a list so in order to get only the desired sequence you need to explicitly get the first item in the list like this:"
      ]
    },
    {
      "cell_type": "code",
      "execution_count": 8,
      "metadata": {
        "id": "kpTy8WmIQ57P",
        "tags": [
          "graded"
        ],
        "outputId": "abdbdbc0-4406-4849-aaf5-1a3bb68698eb",
        "colab": {
          "base_uri": "https://localhost:8080/"
        }
      },
      "outputs": [
        {
          "output_type": "execute_result",
          "data": {
            "text/plain": [
              "[34, 417, 877, 166, 213, 517]"
            ]
          },
          "metadata": {},
          "execution_count": 8
        }
      ],
      "source": [
        "tokenizer.texts_to_sequences([corpus[0]])[0]"
      ]
    },
    {
      "cell_type": "markdown",
      "metadata": {
        "id": "-oqy9KjXRJ9A"
      },
      "source": [
        "## Generating n_grams\n",
        "\n",
        "Now complete the `n_gram_seqs` function below. This function receives the fitted tokenizer and the corpus (which is a list of strings) and should return a list containing the `n_gram` sequences for each line in the corpus:"
      ]
    },
    {
      "cell_type": "code",
      "execution_count": 9,
      "metadata": {
        "id": "iy4baJMDl6kj",
        "tags": [
          "graded"
        ]
      },
      "outputs": [],
      "source": [
        "# GRADED FUNCTION: n_gram_seqs\n",
        "def n_gram_seqs(corpus, tokenizer):\n",
        "    \"\"\"\n",
        "    Generates a list of n-gram sequences\n",
        "    \n",
        "    Args:\n",
        "        corpus (list of string): lines of texts to generate n-grams for\n",
        "        tokenizer (object): an instance of the Tokenizer class containing the word-index dictionary\n",
        "    \n",
        "    Returns:\n",
        "        input_sequences (list of int): the n-gram sequences for each line in the corpus\n",
        "    \"\"\"\n",
        "    input_sequences = []\n",
        "    \n",
        "    ### START CODE HERE\n",
        "    for line in corpus:\n",
        "\t      token_list = tokenizer.texts_to_sequences([line])[0]\n",
        "\t      for i in range(1, len(token_list)):\n",
        "\t          \tn_gram_sequence = token_list[:i+1]\n",
        "\t          \tinput_sequences.append(n_gram_sequence)\n",
        "    ### END CODE HERE\n",
        "    \n",
        "    return input_sequences"
      ]
    },
    {
      "cell_type": "code",
      "execution_count": 10,
      "metadata": {
        "id": "DlKqW2pfM7G3",
        "tags": [
          "graded"
        ],
        "outputId": "0303ef38-2669-4d7f-949e-725885a0eb5f",
        "colab": {
          "base_uri": "https://localhost:8080/"
        }
      },
      "outputs": [
        {
          "output_type": "stream",
          "name": "stdout",
          "text": [
            "n_gram sequences for first example look like this:\n",
            "\n"
          ]
        },
        {
          "output_type": "execute_result",
          "data": {
            "text/plain": [
              "[[34, 417],\n",
              " [34, 417, 877],\n",
              " [34, 417, 877, 166],\n",
              " [34, 417, 877, 166, 213],\n",
              " [34, 417, 877, 166, 213, 517]]"
            ]
          },
          "metadata": {},
          "execution_count": 10
        }
      ],
      "source": [
        "# Test your function with one example\n",
        "first_example_sequence = n_gram_seqs([corpus[0]], tokenizer)\n",
        "\n",
        "print(\"n_gram sequences for first example look like this:\\n\")\n",
        "first_example_sequence"
      ]
    },
    {
      "cell_type": "markdown",
      "metadata": {
        "id": "0HL8Ug6UU0Jt"
      },
      "source": [
        "**Expected Output:**\n",
        "\n",
        "```\n",
        "n_gram sequences for first example look like this:\n",
        "\n",
        "[[34, 417],\n",
        " [34, 417, 877],\n",
        " [34, 417, 877, 166],\n",
        " [34, 417, 877, 166, 213],\n",
        " [34, 417, 877, 166, 213, 517]]\n",
        "```"
      ]
    },
    {
      "cell_type": "code",
      "execution_count": 11,
      "metadata": {
        "id": "wtPpCcBjNc4c",
        "tags": [
          "graded"
        ],
        "outputId": "8810a7d2-767b-4aa9-fdc0-98cb4a6c73e7",
        "colab": {
          "base_uri": "https://localhost:8080/"
        }
      },
      "outputs": [
        {
          "output_type": "stream",
          "name": "stdout",
          "text": [
            "n_gram sequences for next 3 examples look like this:\n",
            "\n"
          ]
        },
        {
          "output_type": "execute_result",
          "data": {
            "text/plain": [
              "[[8, 878],\n",
              " [8, 878, 134],\n",
              " [8, 878, 134, 351],\n",
              " [8, 878, 134, 351, 102],\n",
              " [8, 878, 134, 351, 102, 156],\n",
              " [8, 878, 134, 351, 102, 156, 199],\n",
              " [16, 22],\n",
              " [16, 22, 2],\n",
              " [16, 22, 2, 879],\n",
              " [16, 22, 2, 879, 61],\n",
              " [16, 22, 2, 879, 61, 30],\n",
              " [16, 22, 2, 879, 61, 30, 48],\n",
              " [16, 22, 2, 879, 61, 30, 48, 634],\n",
              " [25, 311],\n",
              " [25, 311, 635],\n",
              " [25, 311, 635, 102],\n",
              " [25, 311, 635, 102, 200],\n",
              " [25, 311, 635, 102, 200, 25],\n",
              " [25, 311, 635, 102, 200, 25, 278]]"
            ]
          },
          "metadata": {},
          "execution_count": 11
        }
      ],
      "source": [
        "# Test your function with a bigger corpus\n",
        "next_3_examples_sequence = n_gram_seqs(corpus[1:4], tokenizer)\n",
        "\n",
        "print(\"n_gram sequences for next 3 examples look like this:\\n\")\n",
        "next_3_examples_sequence"
      ]
    },
    {
      "cell_type": "markdown",
      "metadata": {
        "id": "EIzecMczU9UB"
      },
      "source": [
        "**Expected Output:**\n",
        "\n",
        "```\n",
        "n_gram sequences for next 3 examples look like this:\n",
        "\n",
        "[[8, 878],\n",
        " [8, 878, 134],\n",
        " [8, 878, 134, 351],\n",
        " [8, 878, 134, 351, 102],\n",
        " [8, 878, 134, 351, 102, 156],\n",
        " [8, 878, 134, 351, 102, 156, 199],\n",
        " [16, 22],\n",
        " [16, 22, 2],\n",
        " [16, 22, 2, 879],\n",
        " [16, 22, 2, 879, 61],\n",
        " [16, 22, 2, 879, 61, 30],\n",
        " [16, 22, 2, 879, 61, 30, 48],\n",
        " [16, 22, 2, 879, 61, 30, 48, 634],\n",
        " [25, 311],\n",
        " [25, 311, 635],\n",
        " [25, 311, 635, 102],\n",
        " [25, 311, 635, 102, 200],\n",
        " [25, 311, 635, 102, 200, 25],\n",
        " [25, 311, 635, 102, 200, 25, 278]]\n",
        "```"
      ]
    },
    {
      "cell_type": "markdown",
      "metadata": {
        "id": "dx3V_RjFWQSu"
      },
      "source": [
        "Apply the `n_gram_seqs` transformation to the whole corpus and save the maximum sequence length to use it later:"
      ]
    },
    {
      "cell_type": "code",
      "execution_count": 12,
      "metadata": {
        "id": "laMwiRUpmuSd",
        "tags": [
          "graded"
        ],
        "outputId": "25138386-1047-4156-8e3b-bf414f29bccd",
        "colab": {
          "base_uri": "https://localhost:8080/"
        }
      },
      "outputs": [
        {
          "output_type": "stream",
          "name": "stdout",
          "text": [
            "n_grams of input_sequences have length: 15462\n",
            "maximum length of sequences is: 11\n"
          ]
        }
      ],
      "source": [
        "# Apply the n_gram_seqs transformation to the whole corpus\n",
        "input_sequences = n_gram_seqs(corpus, tokenizer)\n",
        "\n",
        "# Save max length \n",
        "max_sequence_len = max([len(x) for x in input_sequences])\n",
        "\n",
        "print(f\"n_grams of input_sequences have length: {len(input_sequences)}\")\n",
        "print(f\"maximum length of sequences is: {max_sequence_len}\")"
      ]
    },
    {
      "cell_type": "markdown",
      "metadata": {
        "id": "2OciMdmEdE9L"
      },
      "source": [
        "**Expected Output:**\n",
        "\n",
        "```\n",
        "n_grams of input_sequences have length: 15462\n",
        "maximum length of sequences is: 11\n",
        "```"
      ]
    },
    {
      "cell_type": "markdown",
      "metadata": {
        "id": "zHY7HroqWq12"
      },
      "source": [
        "## Add padding to the sequences\n",
        "\n",
        "Now code the `pad_seqs` function which will pad any given sequences to the desired maximum length. Notice that this function receives a list of sequences and should return a numpy array with the padded sequences: "
      ]
    },
    {
      "cell_type": "code",
      "execution_count": 13,
      "metadata": {
        "cellView": "code",
        "id": "WW1-qAZaWOhC",
        "tags": [
          "graded"
        ]
      },
      "outputs": [],
      "source": [
        "# GRADED FUNCTION: pad_seqs\n",
        "def pad_seqs(input_sequences, maxlen):\n",
        "    \"\"\"\n",
        "    Pads tokenized sequences to the same length\n",
        "    \n",
        "    Args:\n",
        "        input_sequences (list of int): tokenized sequences to pad\n",
        "        maxlen (int): maximum length of the token sequences\n",
        "    \n",
        "    Returns:\n",
        "        padded_sequences (array of int): tokenized sequences padded to the same length\n",
        "    \"\"\"\n",
        "    ### START CODE HERE\n",
        "    # max_sequence_len = max([len(x) for x in input_sequences])\n",
        "    padded_sequences = np.array(pad_sequences(input_sequences, maxlen=maxlen, padding='pre'))\n",
        "    # padded_sequences = None\n",
        "    \n",
        "    return padded_sequences\n",
        "    ### END CODE HERE"
      ]
    },
    {
      "cell_type": "code",
      "execution_count": 14,
      "metadata": {
        "id": "IqVQ0pb3YHLr",
        "tags": [
          "graded"
        ],
        "outputId": "42a73e52-27ee-454f-e777-989cf9c5793d",
        "colab": {
          "base_uri": "https://localhost:8080/"
        }
      },
      "outputs": [
        {
          "output_type": "execute_result",
          "data": {
            "text/plain": [
              "array([[  0,   0,   0,  34, 417],\n",
              "       [  0,   0,  34, 417, 877],\n",
              "       [  0,  34, 417, 877, 166],\n",
              "       [ 34, 417, 877, 166, 213],\n",
              "       [417, 877, 166, 213, 517]], dtype=int32)"
            ]
          },
          "metadata": {},
          "execution_count": 14
        }
      ],
      "source": [
        "# Test your function with the n_grams_seq of the first example\n",
        "first_padded_seq = pad_seqs(first_example_sequence, len(first_example_sequence))\n",
        "first_padded_seq"
      ]
    },
    {
      "cell_type": "markdown",
      "metadata": {
        "id": "Re_avDznXRnU"
      },
      "source": [
        "**Expected Output:**\n",
        "\n",
        "```\n",
        "array([[  0,   0,   0,  34, 417],\n",
        "       [  0,   0,  34, 417, 877],\n",
        "       [  0,  34, 417, 877, 166],\n",
        "       [ 34, 417, 877, 166, 213],\n",
        "       [417, 877, 166, 213, 517]], dtype=int32)\n",
        "```"
      ]
    },
    {
      "cell_type": "code",
      "execution_count": 15,
      "metadata": {
        "id": "j56_UCOBYzZt",
        "tags": [
          "graded"
        ],
        "outputId": "61edb284-06ba-4586-8f20-32d3bbee7c40",
        "colab": {
          "base_uri": "https://localhost:8080/"
        }
      },
      "outputs": [
        {
          "output_type": "execute_result",
          "data": {
            "text/plain": [
              "array([[  0,   0,   0,   0,   0,   0,   8, 878],\n",
              "       [  0,   0,   0,   0,   0,   8, 878, 134],\n",
              "       [  0,   0,   0,   0,   8, 878, 134, 351],\n",
              "       [  0,   0,   0,   8, 878, 134, 351, 102],\n",
              "       [  0,   0,   8, 878, 134, 351, 102, 156],\n",
              "       [  0,   8, 878, 134, 351, 102, 156, 199],\n",
              "       [  0,   0,   0,   0,   0,   0,  16,  22],\n",
              "       [  0,   0,   0,   0,   0,  16,  22,   2],\n",
              "       [  0,   0,   0,   0,  16,  22,   2, 879],\n",
              "       [  0,   0,   0,  16,  22,   2, 879,  61],\n",
              "       [  0,   0,  16,  22,   2, 879,  61,  30],\n",
              "       [  0,  16,  22,   2, 879,  61,  30,  48],\n",
              "       [ 16,  22,   2, 879,  61,  30,  48, 634],\n",
              "       [  0,   0,   0,   0,   0,   0,  25, 311],\n",
              "       [  0,   0,   0,   0,   0,  25, 311, 635],\n",
              "       [  0,   0,   0,   0,  25, 311, 635, 102],\n",
              "       [  0,   0,   0,  25, 311, 635, 102, 200],\n",
              "       [  0,   0,  25, 311, 635, 102, 200,  25],\n",
              "       [  0,  25, 311, 635, 102, 200,  25, 278]], dtype=int32)"
            ]
          },
          "metadata": {},
          "execution_count": 15
        }
      ],
      "source": [
        "# Test your function with the n_grams_seq of the next 3 examples\n",
        "next_3_padded_seq = pad_seqs(next_3_examples_sequence, max([len(s) for s in next_3_examples_sequence]))\n",
        "next_3_padded_seq"
      ]
    },
    {
      "cell_type": "markdown",
      "metadata": {
        "id": "3rmcDluOXcIU"
      },
      "source": [
        "**Expected Output:**\n",
        "\n",
        "```\n",
        "array([[  0,   0,   0,   0,   0,   0,   8, 878],\n",
        "       [  0,   0,   0,   0,   0,   8, 878, 134],\n",
        "       [  0,   0,   0,   0,   8, 878, 134, 351],\n",
        "       [  0,   0,   0,   8, 878, 134, 351, 102],\n",
        "       [  0,   0,   8, 878, 134, 351, 102, 156],\n",
        "       [  0,   8, 878, 134, 351, 102, 156, 199],\n",
        "       [  0,   0,   0,   0,   0,   0,  16,  22],\n",
        "       [  0,   0,   0,   0,   0,  16,  22,   2],\n",
        "       [  0,   0,   0,   0,  16,  22,   2, 879],\n",
        "       [  0,   0,   0,  16,  22,   2, 879,  61],\n",
        "       [  0,   0,  16,  22,   2, 879,  61,  30],\n",
        "       [  0,  16,  22,   2, 879,  61,  30,  48],\n",
        "       [ 16,  22,   2, 879,  61,  30,  48, 634],\n",
        "       [  0,   0,   0,   0,   0,   0,  25, 311],\n",
        "       [  0,   0,   0,   0,   0,  25, 311, 635],\n",
        "       [  0,   0,   0,   0,  25, 311, 635, 102],\n",
        "       [  0,   0,   0,  25, 311, 635, 102, 200],\n",
        "       [  0,   0,  25, 311, 635, 102, 200,  25],\n",
        "       [  0,  25, 311, 635, 102, 200,  25, 278]], dtype=int32)\n",
        "```"
      ]
    },
    {
      "cell_type": "code",
      "execution_count": 16,
      "metadata": {
        "id": "rgK-Q_micEYA",
        "tags": [
          "graded"
        ],
        "outputId": "0372db9e-8492-466b-d64d-4ab2ba8abf34",
        "colab": {
          "base_uri": "https://localhost:8080/"
        }
      },
      "outputs": [
        {
          "output_type": "stream",
          "name": "stdout",
          "text": [
            "padded corpus has shape: (15462, 11)\n"
          ]
        }
      ],
      "source": [
        "# Pad the whole corpus\n",
        "input_sequences = pad_seqs(input_sequences, max_sequence_len)\n",
        "\n",
        "print(f\"padded corpus has shape: {input_sequences.shape}\")"
      ]
    },
    {
      "cell_type": "markdown",
      "metadata": {
        "id": "59RD1YYNc7CW"
      },
      "source": [
        "**Expected Output:**\n",
        "\n",
        "```\n",
        "padded corpus has shape: (15462, 11)\n",
        "```"
      ]
    },
    {
      "cell_type": "markdown",
      "metadata": {
        "id": "ZbOidyPrXxf7"
      },
      "source": [
        "## Split the data into features and labels\n",
        "\n",
        "Before feeding the data into the neural network you should split it into features and labels. In this case the features will be the padded n_gram sequences with the last word removed from them and the labels will be the removed word.\n",
        "\n",
        "Complete the `features_and_labels` function below. This function expects the padded n_gram sequences as input and should return a tuple containing the features and the one hot encoded labels.\n",
        "\n",
        "Notice that the function also receives the total of words in the corpus, this parameter will be very important when one hot enconding the labels since every word in the corpus will be a label at least once. If you need a refresh of how the `to_categorical` function works take a look at the [docs](https://www.tensorflow.org/api_docs/python/tf/keras/utils/to_categorical)"
      ]
    },
    {
      "cell_type": "code",
      "execution_count": 18,
      "metadata": {
        "cellView": "code",
        "id": "9WGGbYdnZdmJ",
        "tags": [
          "graded"
        ]
      },
      "outputs": [],
      "source": [
        "# GRADED FUNCTION: features_and_labels\n",
        "def features_and_labels(input_sequences, total_words):\n",
        "    \"\"\"\n",
        "    Generates features and labels from n-grams\n",
        "    \n",
        "    Args:\n",
        "        input_sequences (list of int): sequences to split features and labels from\n",
        "        total_words (int): vocabulary size\n",
        "    \n",
        "    Returns:\n",
        "        features, one_hot_labels (array of int, array of int): arrays of features and one-hot encoded labels\n",
        "    \"\"\"\n",
        "    ### START CODE HERE\n",
        "    features = input_sequences[:,:-1]\n",
        "    labels = input_sequences[:,-1]\n",
        "    one_hot_labels = to_categorical(labels, num_classes=total_words)\n",
        "    ### END CODE HERE\n",
        "\n",
        "    return features, one_hot_labels"
      ]
    },
    {
      "cell_type": "code",
      "execution_count": 19,
      "metadata": {
        "id": "23DolaBRaIAZ",
        "tags": [
          "graded"
        ],
        "outputId": "76df8d83-a671-425b-9ec9-ec786b091d4e",
        "colab": {
          "base_uri": "https://localhost:8080/"
        }
      },
      "outputs": [
        {
          "output_type": "stream",
          "name": "stdout",
          "text": [
            "labels have shape: (5, 3211)\n",
            "\n",
            "features look like this:\n",
            "\n"
          ]
        },
        {
          "output_type": "execute_result",
          "data": {
            "text/plain": [
              "array([[  0,   0,   0,  34],\n",
              "       [  0,   0,  34, 417],\n",
              "       [  0,  34, 417, 877],\n",
              "       [ 34, 417, 877, 166],\n",
              "       [417, 877, 166, 213]], dtype=int32)"
            ]
          },
          "metadata": {},
          "execution_count": 19
        }
      ],
      "source": [
        "# Test your function with the padded n_grams_seq of the first example\n",
        "first_features, first_labels = features_and_labels(first_padded_seq, total_words)\n",
        "\n",
        "print(f\"labels have shape: {first_labels.shape}\")\n",
        "print(\"\\nfeatures look like this:\\n\")\n",
        "first_features"
      ]
    },
    {
      "cell_type": "markdown",
      "metadata": {
        "id": "7t4yAx2UaQ43"
      },
      "source": [
        "**Expected Output:**\n",
        "\n",
        "```\n",
        "labels have shape: (5, 3211)\n",
        "\n",
        "features look like this:\n",
        "\n",
        "array([[  0,   0,   0,  34],\n",
        "       [  0,   0,  34, 417],\n",
        "       [  0,  34, 417, 877],\n",
        "       [ 34, 417, 877, 166],\n",
        "       [417, 877, 166, 213]], dtype=int32)\n",
        "```"
      ]
    },
    {
      "cell_type": "code",
      "execution_count": 20,
      "metadata": {
        "id": "GRTuLEt3bRKa",
        "tags": [
          "graded"
        ],
        "outputId": "3faab7ec-387a-43cf-90a0-c2c4bea35bcb",
        "colab": {
          "base_uri": "https://localhost:8080/"
        }
      },
      "outputs": [
        {
          "output_type": "stream",
          "name": "stdout",
          "text": [
            "features have shape: (15462, 10)\n",
            "labels have shape: (15462, 3211)\n"
          ]
        }
      ],
      "source": [
        "# Split the whole corpus\n",
        "features, labels = features_and_labels(input_sequences, total_words)\n",
        "\n",
        "print(f\"features have shape: {features.shape}\")\n",
        "print(f\"labels have shape: {labels.shape}\")"
      ]
    },
    {
      "cell_type": "markdown",
      "metadata": {
        "id": "xXSMK_HpdLns"
      },
      "source": [
        "**Expected Output:**\n",
        "\n",
        "```\n",
        "features have shape: (15462, 10)\n",
        "labels have shape: (15462, 3211)\n",
        "```"
      ]
    },
    {
      "cell_type": "markdown",
      "metadata": {
        "id": "ltxaOCE_aU6J"
      },
      "source": [
        "## Create the model\n",
        "\n",
        "Now you should define a model architecture capable of achieving an accuracy of at least 80%.\n",
        "\n",
        "Some hints to help you in this task:\n",
        "\n",
        "- An appropriate `output_dim` for the first layer (Embedding) is 100, this is already provided for you.\n",
        "- A Bidirectional LSTM is helpful for this particular problem.\n",
        "- The last layer should have the same number of units as the total number of words in the corpus and a softmax activation function.\n",
        "- This problem can be solved with only two layers (excluding the Embedding) so try out small architectures first."
      ]
    },
    {
      "cell_type": "code",
      "execution_count": 30,
      "metadata": {
        "cellView": "code",
        "id": "XrE6kpJFfvRY",
        "tags": [
          "graded"
        ]
      },
      "outputs": [],
      "source": [
        "# GRADED FUNCTION: create_model\n",
        "from tensorflow.keras.layers import Dropout\n",
        "from tensorflow.python.keras import regularizers\n",
        "def create_model(total_words, max_sequence_len):\n",
        "    \"\"\"\n",
        "    Creates a text generator model\n",
        "    \n",
        "    Args:\n",
        "        total_words (int): size of the vocabulary for the Embedding layer input\n",
        "        max_sequence_len (int): length of the input sequences\n",
        "    \n",
        "    Returns:\n",
        "        model (tf.keras Model): the text generator model\n",
        "    \"\"\"\n",
        "    model = Sequential()\n",
        "    ### START CODE HERE\n",
        "    # model.add(Embedding(None, 100, input_length=None))\n",
        "    model.add(Embedding(total_words, 100, input_length=max_sequence_len-1))\n",
        "    model.add(Bidirectional(LSTM(150, return_sequences = True)))\n",
        "    model.add(Dropout(0.2))\n",
        "    model.add(LSTM(100))\n",
        "    model.add(Dense(total_words/2, activation='relu', kernel_regularizer=regularizers.l2(0.01)))\n",
        "    model.add(Dense(total_words, activation='softmax'))\n",
        "    # model.compile(loss='categorical_crossentropy', optimizer='adam', metrics=['accuracy'])\n",
        "\n",
        "\n",
        "    # Compile the model\n",
        "    model.compile(loss='categorical_crossentropy', optimizer='adam', metrics=['accuracy'])\n",
        "    \n",
        "    ### END CODE HERE\n",
        "\n",
        "    return model"
      ]
    },
    {
      "cell_type": "code",
      "execution_count": 31,
      "metadata": {
        "id": "0IpX_Gu_gISk",
        "tags": [],
        "outputId": "4a55e877-84f0-407b-f1cc-b59e562e6ca8",
        "colab": {
          "base_uri": "https://localhost:8080/"
        }
      },
      "outputs": [
        {
          "output_type": "stream",
          "name": "stdout",
          "text": [
            "Epoch 1/150\n",
            "484/484 [==============================] - 9s 11ms/step - loss: 6.9036 - accuracy: 0.0220\n",
            "Epoch 2/150\n",
            "484/484 [==============================] - 5s 10ms/step - loss: 6.4994 - accuracy: 0.0243\n",
            "Epoch 3/150\n",
            "484/484 [==============================] - 5s 11ms/step - loss: 6.4050 - accuracy: 0.0256\n",
            "Epoch 4/150\n",
            "484/484 [==============================] - 5s 11ms/step - loss: 6.2783 - accuracy: 0.0298\n",
            "Epoch 5/150\n",
            "484/484 [==============================] - 5s 10ms/step - loss: 6.1853 - accuracy: 0.0347\n",
            "Epoch 6/150\n",
            "484/484 [==============================] - 5s 11ms/step - loss: 6.1023 - accuracy: 0.0386\n",
            "Epoch 7/150\n",
            "484/484 [==============================] - 5s 11ms/step - loss: 6.0307 - accuracy: 0.0415\n",
            "Epoch 8/150\n",
            "484/484 [==============================] - 5s 11ms/step - loss: 5.9549 - accuracy: 0.0437\n",
            "Epoch 9/150\n",
            "484/484 [==============================] - 5s 11ms/step - loss: 5.8691 - accuracy: 0.0495\n",
            "Epoch 10/150\n",
            "484/484 [==============================] - 5s 11ms/step - loss: 5.7693 - accuracy: 0.0554\n",
            "Epoch 11/150\n",
            "484/484 [==============================] - 5s 11ms/step - loss: 5.6726 - accuracy: 0.0602\n",
            "Epoch 12/150\n",
            "484/484 [==============================] - 5s 11ms/step - loss: 5.5683 - accuracy: 0.0660\n",
            "Epoch 13/150\n",
            "484/484 [==============================] - 5s 11ms/step - loss: 5.4740 - accuracy: 0.0701\n",
            "Epoch 14/150\n",
            "484/484 [==============================] - 5s 11ms/step - loss: 5.3739 - accuracy: 0.0759\n",
            "Epoch 15/150\n",
            "484/484 [==============================] - 5s 11ms/step - loss: 5.2734 - accuracy: 0.0828\n",
            "Epoch 16/150\n",
            "484/484 [==============================] - 5s 11ms/step - loss: 5.1756 - accuracy: 0.0878\n",
            "Epoch 17/150\n",
            "484/484 [==============================] - 5s 11ms/step - loss: 5.0720 - accuracy: 0.0951\n",
            "Epoch 18/150\n",
            "484/484 [==============================] - 5s 11ms/step - loss: 4.9729 - accuracy: 0.1026\n",
            "Epoch 19/150\n",
            "484/484 [==============================] - 5s 11ms/step - loss: 4.8746 - accuracy: 0.1134\n",
            "Epoch 20/150\n",
            "484/484 [==============================] - 5s 11ms/step - loss: 4.7763 - accuracy: 0.1215\n",
            "Epoch 21/150\n",
            "484/484 [==============================] - 5s 10ms/step - loss: 4.6706 - accuracy: 0.1287\n",
            "Epoch 22/150\n",
            "484/484 [==============================] - 5s 11ms/step - loss: 4.5673 - accuracy: 0.1398\n",
            "Epoch 23/150\n",
            "484/484 [==============================] - 5s 10ms/step - loss: 4.4711 - accuracy: 0.1522\n",
            "Epoch 24/150\n",
            "484/484 [==============================] - 5s 11ms/step - loss: 4.3634 - accuracy: 0.1631\n",
            "Epoch 25/150\n",
            "484/484 [==============================] - 5s 11ms/step - loss: 4.2672 - accuracy: 0.1735\n",
            "Epoch 26/150\n",
            "484/484 [==============================] - 5s 11ms/step - loss: 4.1751 - accuracy: 0.1868\n",
            "Epoch 27/150\n",
            "484/484 [==============================] - 5s 11ms/step - loss: 4.0672 - accuracy: 0.1997\n",
            "Epoch 28/150\n",
            "484/484 [==============================] - 5s 11ms/step - loss: 3.9683 - accuracy: 0.2116\n",
            "Epoch 29/150\n",
            "484/484 [==============================] - 5s 11ms/step - loss: 3.8738 - accuracy: 0.2317\n",
            "Epoch 30/150\n",
            "484/484 [==============================] - 5s 11ms/step - loss: 3.7755 - accuracy: 0.2473\n",
            "Epoch 31/150\n",
            "484/484 [==============================] - 5s 11ms/step - loss: 3.6725 - accuracy: 0.2657\n",
            "Epoch 32/150\n",
            "484/484 [==============================] - 5s 10ms/step - loss: 3.5991 - accuracy: 0.2775\n",
            "Epoch 33/150\n",
            "484/484 [==============================] - 5s 10ms/step - loss: 3.4961 - accuracy: 0.3019\n",
            "Epoch 34/150\n",
            "484/484 [==============================] - 5s 11ms/step - loss: 3.4131 - accuracy: 0.3210\n",
            "Epoch 35/150\n",
            "484/484 [==============================] - 5s 11ms/step - loss: 3.3387 - accuracy: 0.3350\n",
            "Epoch 36/150\n",
            "484/484 [==============================] - 5s 10ms/step - loss: 3.2560 - accuracy: 0.3557\n",
            "Epoch 37/150\n",
            "484/484 [==============================] - 5s 10ms/step - loss: 3.1783 - accuracy: 0.3755\n",
            "Epoch 38/150\n",
            "484/484 [==============================] - 5s 11ms/step - loss: 3.0973 - accuracy: 0.3882\n",
            "Epoch 39/150\n",
            "484/484 [==============================] - 5s 11ms/step - loss: 3.0297 - accuracy: 0.4087\n",
            "Epoch 40/150\n",
            "484/484 [==============================] - 5s 11ms/step - loss: 2.9458 - accuracy: 0.4254\n",
            "Epoch 41/150\n",
            "484/484 [==============================] - 5s 10ms/step - loss: 2.8957 - accuracy: 0.4369\n",
            "Epoch 42/150\n",
            "484/484 [==============================] - 6s 12ms/step - loss: 2.8173 - accuracy: 0.4545\n",
            "Epoch 43/150\n",
            "484/484 [==============================] - 5s 10ms/step - loss: 2.7511 - accuracy: 0.4712\n",
            "Epoch 44/150\n",
            "484/484 [==============================] - 5s 11ms/step - loss: 2.6958 - accuracy: 0.4829\n",
            "Epoch 45/150\n",
            "484/484 [==============================] - 5s 11ms/step - loss: 2.6300 - accuracy: 0.4979\n",
            "Epoch 46/150\n",
            "484/484 [==============================] - 5s 11ms/step - loss: 2.5750 - accuracy: 0.5097\n",
            "Epoch 47/150\n",
            "484/484 [==============================] - 5s 11ms/step - loss: 2.5115 - accuracy: 0.5237\n",
            "Epoch 48/150\n",
            "484/484 [==============================] - 5s 10ms/step - loss: 2.4588 - accuracy: 0.5341\n",
            "Epoch 49/150\n",
            "484/484 [==============================] - 5s 10ms/step - loss: 2.4178 - accuracy: 0.5433\n",
            "Epoch 50/150\n",
            "484/484 [==============================] - 5s 10ms/step - loss: 2.3661 - accuracy: 0.5614\n",
            "Epoch 51/150\n",
            "484/484 [==============================] - 5s 11ms/step - loss: 2.3056 - accuracy: 0.5736\n",
            "Epoch 52/150\n",
            "484/484 [==============================] - 5s 10ms/step - loss: 2.2691 - accuracy: 0.5742\n",
            "Epoch 53/150\n",
            "484/484 [==============================] - 5s 11ms/step - loss: 2.2237 - accuracy: 0.5863\n",
            "Epoch 54/150\n",
            "484/484 [==============================] - 5s 11ms/step - loss: 2.1801 - accuracy: 0.5971\n",
            "Epoch 55/150\n",
            "484/484 [==============================] - 5s 11ms/step - loss: 2.1267 - accuracy: 0.6113\n",
            "Epoch 56/150\n",
            "484/484 [==============================] - 5s 10ms/step - loss: 2.0886 - accuracy: 0.6160\n",
            "Epoch 57/150\n",
            "484/484 [==============================] - 5s 11ms/step - loss: 2.0496 - accuracy: 0.6257\n",
            "Epoch 58/150\n",
            "484/484 [==============================] - 5s 11ms/step - loss: 2.0032 - accuracy: 0.6386\n",
            "Epoch 59/150\n",
            "484/484 [==============================] - 5s 11ms/step - loss: 1.9683 - accuracy: 0.6461\n",
            "Epoch 60/150\n",
            "484/484 [==============================] - 5s 11ms/step - loss: 1.9437 - accuracy: 0.6495\n",
            "Epoch 61/150\n",
            "484/484 [==============================] - 5s 11ms/step - loss: 1.9107 - accuracy: 0.6561\n",
            "Epoch 62/150\n",
            "484/484 [==============================] - 5s 11ms/step - loss: 1.8655 - accuracy: 0.6682\n",
            "Epoch 63/150\n",
            "484/484 [==============================] - 5s 11ms/step - loss: 1.8318 - accuracy: 0.6751\n",
            "Epoch 64/150\n",
            "484/484 [==============================] - 5s 11ms/step - loss: 1.7927 - accuracy: 0.6855\n",
            "Epoch 65/150\n",
            "484/484 [==============================] - 5s 11ms/step - loss: 1.7679 - accuracy: 0.6920\n",
            "Epoch 66/150\n",
            "484/484 [==============================] - 5s 10ms/step - loss: 1.7399 - accuracy: 0.6932\n",
            "Epoch 67/150\n",
            "484/484 [==============================] - 6s 12ms/step - loss: 1.7149 - accuracy: 0.7000\n",
            "Epoch 68/150\n",
            "484/484 [==============================] - 5s 11ms/step - loss: 1.6949 - accuracy: 0.7016\n",
            "Epoch 69/150\n",
            "484/484 [==============================] - 5s 11ms/step - loss: 1.6636 - accuracy: 0.7094\n",
            "Epoch 70/150\n",
            "484/484 [==============================] - 5s 11ms/step - loss: 1.6296 - accuracy: 0.7167\n",
            "Epoch 71/150\n",
            "484/484 [==============================] - 5s 11ms/step - loss: 1.6075 - accuracy: 0.7218\n",
            "Epoch 72/150\n",
            "484/484 [==============================] - 5s 11ms/step - loss: 1.5853 - accuracy: 0.7262\n",
            "Epoch 73/150\n",
            "484/484 [==============================] - 5s 10ms/step - loss: 1.5674 - accuracy: 0.7295\n",
            "Epoch 74/150\n",
            "484/484 [==============================] - 5s 11ms/step - loss: 1.5512 - accuracy: 0.7302\n",
            "Epoch 75/150\n",
            "484/484 [==============================] - 5s 11ms/step - loss: 1.5141 - accuracy: 0.7420\n",
            "Epoch 76/150\n",
            "484/484 [==============================] - 5s 11ms/step - loss: 1.4956 - accuracy: 0.7435\n",
            "Epoch 77/150\n",
            "484/484 [==============================] - 5s 11ms/step - loss: 1.4698 - accuracy: 0.7485\n",
            "Epoch 78/150\n",
            "484/484 [==============================] - 5s 10ms/step - loss: 1.4601 - accuracy: 0.7515\n",
            "Epoch 79/150\n",
            "484/484 [==============================] - 5s 10ms/step - loss: 1.4524 - accuracy: 0.7485\n",
            "Epoch 80/150\n",
            "484/484 [==============================] - 5s 10ms/step - loss: 1.4350 - accuracy: 0.7549\n",
            "Epoch 81/150\n",
            "484/484 [==============================] - 5s 10ms/step - loss: 1.3959 - accuracy: 0.7655\n",
            "Epoch 82/150\n",
            "484/484 [==============================] - 5s 10ms/step - loss: 1.3804 - accuracy: 0.7654\n",
            "Epoch 83/150\n",
            "484/484 [==============================] - 5s 10ms/step - loss: 1.3721 - accuracy: 0.7671\n",
            "Epoch 84/150\n",
            "484/484 [==============================] - 5s 11ms/step - loss: 1.3631 - accuracy: 0.7666\n",
            "Epoch 85/150\n",
            "484/484 [==============================] - 5s 11ms/step - loss: 1.3411 - accuracy: 0.7723\n",
            "Epoch 86/150\n",
            "484/484 [==============================] - 5s 10ms/step - loss: 1.3207 - accuracy: 0.7771\n",
            "Epoch 87/150\n",
            "484/484 [==============================] - 5s 11ms/step - loss: 1.3161 - accuracy: 0.7724\n",
            "Epoch 88/150\n",
            "484/484 [==============================] - 5s 11ms/step - loss: 1.3013 - accuracy: 0.7770\n",
            "Epoch 89/150\n",
            "484/484 [==============================] - 5s 11ms/step - loss: 1.2780 - accuracy: 0.7836\n",
            "Epoch 90/150\n",
            "484/484 [==============================] - 5s 11ms/step - loss: 1.2714 - accuracy: 0.7822\n",
            "Epoch 91/150\n",
            "484/484 [==============================] - 5s 10ms/step - loss: 1.2676 - accuracy: 0.7784\n",
            "Epoch 92/150\n",
            "484/484 [==============================] - 6s 12ms/step - loss: 1.2626 - accuracy: 0.7823\n",
            "Epoch 93/150\n",
            "484/484 [==============================] - 5s 10ms/step - loss: 1.2363 - accuracy: 0.7874\n",
            "Epoch 94/150\n",
            "484/484 [==============================] - 5s 10ms/step - loss: 1.2326 - accuracy: 0.7885\n",
            "Epoch 95/150\n",
            "484/484 [==============================] - 5s 10ms/step - loss: 1.2009 - accuracy: 0.7919\n",
            "Epoch 96/150\n",
            "484/484 [==============================] - 5s 11ms/step - loss: 1.1917 - accuracy: 0.7969\n",
            "Epoch 97/150\n",
            "484/484 [==============================] - 5s 11ms/step - loss: 1.1832 - accuracy: 0.7977\n",
            "Epoch 98/150\n",
            "484/484 [==============================] - 5s 10ms/step - loss: 1.1807 - accuracy: 0.7983\n",
            "Epoch 99/150\n",
            "484/484 [==============================] - 5s 10ms/step - loss: 1.1744 - accuracy: 0.7970\n",
            "Epoch 100/150\n",
            "484/484 [==============================] - 5s 10ms/step - loss: 1.1750 - accuracy: 0.7958\n",
            "Epoch 101/150\n",
            "484/484 [==============================] - 5s 10ms/step - loss: 1.1419 - accuracy: 0.8040\n",
            "Epoch 102/150\n",
            "484/484 [==============================] - 5s 11ms/step - loss: 1.1354 - accuracy: 0.8031\n",
            "Epoch 103/150\n",
            "484/484 [==============================] - 5s 11ms/step - loss: 1.1422 - accuracy: 0.7963\n",
            "Epoch 104/150\n",
            "484/484 [==============================] - 5s 11ms/step - loss: 1.1230 - accuracy: 0.8043\n",
            "Epoch 105/150\n",
            "484/484 [==============================] - 5s 10ms/step - loss: 1.1179 - accuracy: 0.8062\n",
            "Epoch 106/150\n",
            "484/484 [==============================] - 5s 10ms/step - loss: 1.1131 - accuracy: 0.8031\n",
            "Epoch 107/150\n",
            "484/484 [==============================] - 5s 10ms/step - loss: 1.0946 - accuracy: 0.8099\n",
            "Epoch 108/150\n",
            "484/484 [==============================] - 5s 10ms/step - loss: 1.0791 - accuracy: 0.8124\n",
            "Epoch 109/150\n",
            "484/484 [==============================] - 5s 10ms/step - loss: 1.0809 - accuracy: 0.8132\n",
            "Epoch 110/150\n",
            "484/484 [==============================] - 5s 10ms/step - loss: 1.0644 - accuracy: 0.8137\n",
            "Epoch 111/150\n",
            "484/484 [==============================] - 5s 11ms/step - loss: 1.0749 - accuracy: 0.8090\n",
            "Epoch 112/150\n",
            "484/484 [==============================] - 5s 11ms/step - loss: 1.0592 - accuracy: 0.8140\n",
            "Epoch 113/150\n",
            "484/484 [==============================] - 5s 11ms/step - loss: 1.0572 - accuracy: 0.8166\n",
            "Epoch 114/150\n",
            "484/484 [==============================] - 5s 11ms/step - loss: 1.0516 - accuracy: 0.8149\n",
            "Epoch 115/150\n",
            "484/484 [==============================] - 5s 11ms/step - loss: 1.0374 - accuracy: 0.8164\n",
            "Epoch 116/150\n",
            "484/484 [==============================] - 5s 11ms/step - loss: 1.0456 - accuracy: 0.8142\n",
            "Epoch 117/150\n",
            "484/484 [==============================] - 6s 12ms/step - loss: 1.0518 - accuracy: 0.8102\n",
            "Epoch 118/150\n",
            "484/484 [==============================] - 5s 11ms/step - loss: 1.0188 - accuracy: 0.8189\n",
            "Epoch 119/150\n",
            "484/484 [==============================] - 5s 10ms/step - loss: 1.0159 - accuracy: 0.8185\n",
            "Epoch 120/150\n",
            "484/484 [==============================] - 5s 11ms/step - loss: 1.0079 - accuracy: 0.8196\n",
            "Epoch 121/150\n",
            "484/484 [==============================] - 5s 10ms/step - loss: 1.0000 - accuracy: 0.8210\n",
            "Epoch 122/150\n",
            "484/484 [==============================] - 5s 11ms/step - loss: 1.0018 - accuracy: 0.8190\n",
            "Epoch 123/150\n",
            "484/484 [==============================] - 5s 10ms/step - loss: 0.9970 - accuracy: 0.8199\n",
            "Epoch 124/150\n",
            "484/484 [==============================] - 5s 10ms/step - loss: 0.9930 - accuracy: 0.8243\n",
            "Epoch 125/150\n",
            "484/484 [==============================] - 5s 10ms/step - loss: 0.9800 - accuracy: 0.8231\n",
            "Epoch 126/150\n",
            "484/484 [==============================] - 5s 10ms/step - loss: 0.9839 - accuracy: 0.8228\n",
            "Epoch 127/150\n",
            "484/484 [==============================] - 5s 11ms/step - loss: 0.9722 - accuracy: 0.8252\n",
            "Epoch 128/150\n",
            "484/484 [==============================] - 5s 11ms/step - loss: 0.9618 - accuracy: 0.8260\n",
            "Epoch 129/150\n",
            "484/484 [==============================] - 5s 11ms/step - loss: 0.9813 - accuracy: 0.8220\n",
            "Epoch 130/150\n",
            "484/484 [==============================] - 5s 10ms/step - loss: 0.9570 - accuracy: 0.8269\n",
            "Epoch 131/150\n",
            "484/484 [==============================] - 5s 10ms/step - loss: 0.9554 - accuracy: 0.8286\n",
            "Epoch 132/150\n",
            "484/484 [==============================] - 5s 10ms/step - loss: 0.9505 - accuracy: 0.8280\n",
            "Epoch 133/150\n",
            "484/484 [==============================] - 5s 10ms/step - loss: 0.9512 - accuracy: 0.8262\n",
            "Epoch 134/150\n",
            "484/484 [==============================] - 5s 10ms/step - loss: 0.9567 - accuracy: 0.8235\n",
            "Epoch 135/150\n",
            "484/484 [==============================] - 5s 10ms/step - loss: 0.9475 - accuracy: 0.8249\n",
            "Epoch 136/150\n",
            "484/484 [==============================] - 5s 10ms/step - loss: 0.9341 - accuracy: 0.8286\n",
            "Epoch 137/150\n",
            "484/484 [==============================] - 5s 10ms/step - loss: 0.9299 - accuracy: 0.8293\n",
            "Epoch 138/150\n",
            "484/484 [==============================] - 5s 10ms/step - loss: 0.9327 - accuracy: 0.8260\n",
            "Epoch 139/150\n",
            "484/484 [==============================] - 5s 10ms/step - loss: 0.9185 - accuracy: 0.8299\n",
            "Epoch 140/150\n",
            "484/484 [==============================] - 5s 10ms/step - loss: 0.9106 - accuracy: 0.8326\n",
            "Epoch 141/150\n",
            "484/484 [==============================] - 5s 11ms/step - loss: 0.9180 - accuracy: 0.8310\n",
            "Epoch 142/150\n",
            "484/484 [==============================] - 6s 12ms/step - loss: 0.9178 - accuracy: 0.8317\n",
            "Epoch 143/150\n",
            "484/484 [==============================] - 5s 10ms/step - loss: 0.9140 - accuracy: 0.8284\n",
            "Epoch 144/150\n",
            "484/484 [==============================] - 5s 10ms/step - loss: 0.9148 - accuracy: 0.8274\n",
            "Epoch 145/150\n",
            "484/484 [==============================] - 5s 10ms/step - loss: 0.9055 - accuracy: 0.8309\n",
            "Epoch 146/150\n",
            "484/484 [==============================] - 5s 10ms/step - loss: 0.8986 - accuracy: 0.8338\n",
            "Epoch 147/150\n",
            "484/484 [==============================] - 5s 11ms/step - loss: 0.9025 - accuracy: 0.8289\n",
            "Epoch 148/150\n",
            "484/484 [==============================] - 5s 10ms/step - loss: 0.9070 - accuracy: 0.8292\n",
            "Epoch 149/150\n",
            "484/484 [==============================] - 5s 11ms/step - loss: 0.8950 - accuracy: 0.8315\n",
            "Epoch 150/150\n",
            "484/484 [==============================] - 5s 11ms/step - loss: 0.8925 - accuracy: 0.8306\n"
          ]
        }
      ],
      "source": [
        "# Get the untrained model\n",
        "model = create_model(total_words, max_sequence_len)\n",
        "\n",
        "# Train the model\n",
        "history = model.fit(features, labels, epochs=150, verbose=1)"
      ]
    },
    {
      "cell_type": "markdown",
      "metadata": {
        "id": "gy72RPgly55q"
      },
      "source": [
        "**To pass this assignment, your model should achieve a training accuracy of at least 80%**. If your model didn't achieve this threshold, try training again with a different model architecture, consider increasing the number of unit in your `LSTM` layer."
      ]
    },
    {
      "cell_type": "code",
      "execution_count": 32,
      "metadata": {
        "id": "1fXTEO3GJ282",
        "tags": [],
        "outputId": "57e4cc88-9241-435b-a097-9f4aac6e69c4",
        "colab": {
          "base_uri": "https://localhost:8080/",
          "height": 545
        }
      },
      "outputs": [
        {
          "output_type": "display_data",
          "data": {
            "text/plain": [
              "<Figure size 432x288 with 1 Axes>"
            ],
            "image/png": "[encoded data removed]"
          },
          "metadata": {
            "needs_background": "light"
          }
        },
        {
          "output_type": "display_data",
          "data": {
            "text/plain": [
              "<Figure size 432x288 with 1 Axes>"
            ],
            "image/png": "[encoded data removed]"
          },
          "metadata": {
            "needs_background": "light"
          }
        }
      ],
      "source": [
        "# Take a look at the training curves of your model\n",
        "\n",
        "acc = history.history['accuracy']\n",
        "loss = history.history['loss']\n",
        "\n",
        "epochs = range(len(acc))\n",
        "\n",
        "plt.plot(epochs, acc, 'b', label='Training accuracy')\n",
        "plt.title('Training accuracy')\n",
        "\n",
        "plt.figure()\n",
        "\n",
        "plt.plot(epochs, loss, 'b', label='Training Loss')\n",
        "plt.title('Training loss')\n",
        "plt.legend()\n",
        "\n",
        "plt.show()"
      ]
    },
    {
      "cell_type": "markdown",
      "metadata": {
        "id": "OjvED5A3qrn2"
      },
      "source": [
        "Before closing the assignment, be sure to also download the `history.pkl` file which contains the information of the training history of your model and will be used to compute your grade. You can download this file by running the cell below:"
      ]
    },
    {
      "cell_type": "code",
      "execution_count": 33,
      "metadata": {
        "id": "9QRG73l6qE-c",
        "tags": [],
        "outputId": "1b8721e6-d157-47fb-cdf1-c423c75caeaa",
        "colab": {
          "base_uri": "https://localhost:8080/",
          "height": 17
        }
      },
      "outputs": [
        {
          "output_type": "display_data",
          "data": {
            "text/plain": [
              "<IPython.core.display.Javascript object>"
            ],
            "application/javascript": [
              "\n",
              "    async function download(id, filename, size) {\n",
              "      if (!google.colab.kernel.accessAllowed) {\n",
              "        return;\n",
              "      }\n",
              "      const div = document.createElement('div');\n",
              "      const label = document.createElement('label');\n",
              "      label.textContent = `Downloading \"${filename}\": `;\n",
              "      div.appendChild(label);\n",
              "      const progress = document.createElement('progress');\n",
              "      progress.max = size;\n",
              "      div.appendChild(progress);\n",
              "      document.body.appendChild(div);\n",
              "\n",
              "      const buffers = [];\n",
              "      let downloaded = 0;\n",
              "\n",
              "      const channel = await google.colab.kernel.comms.open(id);\n",
              "      // Send a message to notify the kernel that we're ready.\n",
              "      channel.send({})\n",
              "\n",
              "      for await (const message of channel.messages) {\n",
              "        // Send a message to notify the kernel that we're ready.\n",
              "        channel.send({})\n",
              "        if (message.buffers) {\n",
              "          for (const buffer of message.buffers) {\n",
              "            buffers.push(buffer);\n",
              "            downloaded += buffer.byteLength;\n",
              "            progress.value = downloaded;\n",
              "          }\n",
              "        }\n",
              "      }\n",
              "      const blob = new Blob(buffers, {type: 'application/binary'});\n",
              "      const a = document.createElement('a');\n",
              "      a.href = window.URL.createObjectURL(blob);\n",
              "      a.download = filename;\n",
              "      div.appendChild(a);\n",
              "      a.click();\n",
              "      div.remove();\n",
              "    }\n",
              "  "
            ]
          },
          "metadata": {}
        },
        {
          "output_type": "display_data",
          "data": {
            "text/plain": [
              "<IPython.core.display.Javascript object>"
            ],
            "application/javascript": [
              "download(\"download_de77d542-c769-4476-9174-5f2fd3395429\", \"history.pkl\", 2744)"
            ]
          },
          "metadata": {}
        }
      ],
      "source": [
        "def download_history():\n",
        "  import pickle\n",
        "  from google.colab import files\n",
        "\n",
        "  with open('history.pkl', 'wb') as f:\n",
        "    pickle.dump(history.history, f)\n",
        "\n",
        "  files.download('history.pkl')\n",
        "\n",
        "download_history()"
      ]
    },
    {
      "cell_type": "markdown",
      "metadata": {
        "id": "wdsMszk9zBs_"
      },
      "source": [
        "## See your model in action\n",
        "\n",
        "After all your work it is finally time to see your model generating text. \n",
        "\n",
        "Run the cell below to generate the next 100 words of a seed text.\n",
        "\n",
        "After submitting your assignment you are encouraged to try out training for different amounts of epochs and seeing how this affects the coherency of the generated text. Also try changing the seed text to see what you get!"
      ]
    },
    {
      "cell_type": "code",
      "execution_count": 34,
      "metadata": {
        "id": "6Vc6PHgxa6Hm",
        "tags": [],
        "outputId": "cdc6b82a-1039-49d5-ec5b-25d09133f703",
        "colab": {
          "base_uri": "https://localhost:8080/"
        }
      },
      "outputs": [
        {
          "output_type": "stream",
          "name": "stdout",
          "text": [
            "Help me Obi Wan Kenobi, you're my only hope some hide be thine more dear love heaven love for thee was her dear fair respect control her balmy time hate up gentle bevel brought me back back on heavy light quite feast 'tis shown dispense razed esteem'd pace bevel dispense dispense pluck me due on 'will ' are when i see what look in me for things ill dearer dear face more argument flattery prove rolling rolling 'will ' shall go dear pain be his spring and dwell alone rage child must live doth remain nor dwell more young doth able field befits light translate light twain gentle report\n"
          ]
        }
      ],
      "source": [
        "seed_text = \"Help me Obi Wan Kenobi, you're my only hope\"\n",
        "next_words = 100\n",
        "  \n",
        "for _ in range(next_words):\n",
        "\t# Convert the text into sequences\n",
        "\ttoken_list = tokenizer.texts_to_sequences([seed_text])[0]\n",
        "\t# Pad the sequences\n",
        "\ttoken_list = pad_sequences([token_list], maxlen=max_sequence_len-1, padding='pre')\n",
        "\t# Get the probabilities of predicting a word\n",
        "\tpredicted = model.predict(token_list, verbose=0)\n",
        "\t# Choose the next word based on the maximum probability\n",
        "\tpredicted = np.argmax(predicted, axis=-1).item()\n",
        "\t# Get the actual word from the word index\n",
        "\toutput_word = tokenizer.index_word[predicted]\n",
        "\t# Append to the current text\n",
        "\tseed_text += \" \" + output_word\n",
        "\n",
        "print(seed_text)"
      ]
    },
    {
      "cell_type": "markdown",
      "metadata": {
        "id": "oQVDbdcYqSux"
      },
      "source": [
        "You will also need to submit this notebook for grading. To download it, click on the File tab in the upper left corner of the screen then click on Download -> Download .ipynb. You can name it anything you want as long as it is a valid .ipynb (jupyter notebook) file.\n",
        "\n",
        "**Congratulations on finishing this week's assignment!**\n",
        "\n",
        "You have successfully implemented a neural network capable of predicting the next word in a sequence of text!\n",
        "\n",
        "**We hope to see you in the next course of the specialization! Keep it up!**"
      ]
    }
  ],
  "metadata": {
    "dlai_version": "1.2.0",
    "accelerator": "GPU",
    "jupytext": {
      "main_language": "python"
    },
    "kernelspec": {
      "display_name": "Python 3",
      "language": "python",
      "name": "python3"
    },
    "language_info": {
      "codemirror_mode": {
        "name": "ipython",
        "version": 3
      },
      "file_extension": ".py",
      "mimetype": "text/x-python",
      "name": "python",
      "nbconvert_exporter": "python",
      "pygments_lexer": "ipython3",
      "version": "3.7.4"
    },
    "colab": {
      "name": "C3W4_Assignment.ipynb",
      "provenance": []
    }
  },
  "nbformat": 4,
  "nbformat_minor": 0
}